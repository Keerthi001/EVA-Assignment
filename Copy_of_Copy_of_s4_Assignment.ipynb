{
  "nbformat": 4,
  "nbformat_minor": 0,
  "metadata": {
    "colab": {
      "name": "Copy of Copy of s4_Assignment.ipynb",
      "provenance": [],
      "collapsed_sections": [],
      "include_colab_link": true
    },
    "kernelspec": {
      "name": "python3",
      "display_name": "Python 3"
    }
  },
  "cells": [
    {
      "cell_type": "markdown",
      "metadata": {
        "id": "view-in-github",
        "colab_type": "text"
      },
      "source": [
        "<a href=\"https://colab.research.google.com/github/Keerthi001/EVA-Assignment/blob/main/Copy_of_Copy_of_s4_Assignment.ipynb\" target=\"_parent\"><img src=\"https://colab.research.google.com/assets/colab-badge.svg\" alt=\"Open In Colab\"/></a>"
      ]
    },
    {
      "cell_type": "code",
      "metadata": {
        "id": "iFRAiIeVu_fe"
      },
      "source": [
        "from __future__ import print_function\r\n",
        "import torch\r\n",
        "import torch.nn as nn\r\n",
        "import torch.nn.functional as F\r\n",
        "import torch.optim as optim\r\n",
        "from torchvision import datasets, transforms\r\n"
      ],
      "execution_count": 69,
      "outputs": []
    },
    {
      "cell_type": "code",
      "metadata": {
        "id": "iQL0N3v7vCE3"
      },
      "source": [
        "# Model paramters: 11730, accuray: >99.4\r\n",
        "\r\n",
        "class Net(nn.Module):\r\n",
        "    def __init__(self):\r\n",
        "        super(Net, self).__init__()\r\n",
        "        \r\n",
        "        self.conv = nn.Sequential(\r\n",
        "            nn.Conv2d(1, 4, 3, padding=1),\r\n",
        "            nn.ReLU(),\r\n",
        "            # nn.Conv2d(4, 16, 3, padding=1),\r\n",
        "            # nn.ReLU(),\r\n",
        "            nn.BatchNorm2d(4),\r\n",
        "            nn.MaxPool2d(2,2),\r\n",
        "            nn.Dropout(0.50),\r\n",
        "            nn.Conv2d(4, 16, 3, padding=1),\r\n",
        "            nn.ReLU(),\r\n",
        "            # nn.Conv2d(16, 32, 3, padding=1),\r\n",
        "            # nn.ReLU(),\r\n",
        "            nn.BatchNorm2d(16),\r\n",
        "            nn.MaxPool2d(2,2),\r\n",
        "            nn.Dropout(0.50),\r\n",
        "            nn.Conv2d(16, 32, 3),\r\n",
        "            nn.ReLU(),\r\n",
        "            nn.Conv2d(32, 10, 3),\r\n",
        "            nn.AvgPool2d(3, 2),\r\n",
        "        )\r\n",
        " \r\n",
        "    def forward(self, x):\r\n",
        "        x = self.conv(x)\r\n",
        "        \r\n",
        "        x = x.view(-1, 10)\r\n",
        "        x = F.log_softmax(x, dim=1)\r\n",
        "        return x\r\n"
      ],
      "execution_count": 70,
      "outputs": []
    },
    {
      "cell_type": "code",
      "metadata": {
        "id": "U6-XwzsCvYyk",
        "colab": {
          "base_uri": "https://localhost:8080/"
        },
        "outputId": "f894a7b3-b727-4ae3-83ce-b557d3947f5d"
      },
      "source": [
        "from torchsummary import summary\r\n",
        "use_cuda = torch.cuda.is_available()\r\n",
        "device = torch.device(\"cuda\" if use_cuda else \"cpu\")\r\n",
        "model = Net().to(device)\r\n",
        "summary(model, input_size=(1, 28, 28))"
      ],
      "execution_count": 71,
      "outputs": [
        {
          "output_type": "stream",
          "text": [
            "----------------------------------------------------------------\n",
            "        Layer (type)               Output Shape         Param #\n",
            "================================================================\n",
            "            Conv2d-1            [-1, 4, 28, 28]              40\n",
            "              ReLU-2            [-1, 4, 28, 28]               0\n",
            "       BatchNorm2d-3            [-1, 4, 28, 28]               8\n",
            "         MaxPool2d-4            [-1, 4, 14, 14]               0\n",
            "           Dropout-5            [-1, 4, 14, 14]               0\n",
            "            Conv2d-6           [-1, 16, 14, 14]             592\n",
            "              ReLU-7           [-1, 16, 14, 14]               0\n",
            "       BatchNorm2d-8           [-1, 16, 14, 14]              32\n",
            "         MaxPool2d-9             [-1, 16, 7, 7]               0\n",
            "          Dropout-10             [-1, 16, 7, 7]               0\n",
            "           Conv2d-11             [-1, 32, 5, 5]           4,640\n",
            "             ReLU-12             [-1, 32, 5, 5]               0\n",
            "           Conv2d-13             [-1, 10, 3, 3]           2,890\n",
            "        AvgPool2d-14             [-1, 10, 1, 1]               0\n",
            "================================================================\n",
            "Total params: 8,202\n",
            "Trainable params: 8,202\n",
            "Non-trainable params: 0\n",
            "----------------------------------------------------------------\n",
            "Input size (MB): 0.00\n",
            "Forward/backward pass size (MB): 0.18\n",
            "Params size (MB): 0.03\n",
            "Estimated Total Size (MB): 0.21\n",
            "----------------------------------------------------------------\n"
          ],
          "name": "stdout"
        }
      ]
    },
    {
      "cell_type": "code",
      "metadata": {
        "id": "o6Eon1a3viXs"
      },
      "source": [
        "torch.manual_seed(1)\r\n",
        "batch_size = 128\r\n",
        " \r\n",
        "kwargs = {'num_workers': 1, 'pin_memory': True} if use_cuda else {}\r\n",
        "train_loader = torch.utils.data.DataLoader(\r\n",
        "    datasets.MNIST('../data', train=True, download=True,\r\n",
        "                    transform=transforms.Compose([\r\n",
        "                        #transforms.RandomRotation(30),\r\n",
        "                        transforms.RandomAffine(degrees=20, translate=(0.1,0.1), scale=(0.9, 1.1)),\r\n",
        "                        transforms.ColorJitter(brightness=0.2, contrast=0.2),\r\n",
        "                        transforms.ToTensor(),\r\n",
        "                        transforms.Normalize((0.1307), (0.3081))\r\n",
        "                    ])),\r\n",
        "    batch_size=batch_size, shuffle=True, **kwargs)\r\n",
        "test_loader = torch.utils.data.DataLoader(\r\n",
        "    datasets.MNIST('../data', train=False, transform=transforms.Compose([\r\n",
        "                        transforms.ToTensor(),\r\n",
        "                        transforms.Normalize((0.1307,), (0.3081,))\r\n",
        "                    ])),\r\n",
        "    batch_size=batch_size, shuffle=True, **kwargs)"
      ],
      "execution_count": 72,
      "outputs": []
    },
    {
      "cell_type": "code",
      "metadata": {
        "id": "oqFsdvn7vjvB"
      },
      "source": [
        "from tqdm import tqdm\r\n",
        "def train(model, device, train_loader, optimizer, epoch):\r\n",
        "    model.train()\r\n",
        "    pbar = tqdm(train_loader)\r\n",
        " \r\n",
        "    for batch_idx, (data, target) in enumerate(pbar):\r\n",
        "        data, target = data.to(device), target.to(device)\r\n",
        "        optimizer.zero_grad()\r\n",
        "        output = model(data)\r\n",
        "        loss = F.nll_loss(output, target)\r\n",
        "        loss.backward()\r\n",
        "        optimizer.step()\r\n",
        "        pbar.set_description(desc= f'loss={loss.item()} batch_id={batch_idx}')\r\n",
        " \r\n",
        " \r\n",
        " \r\n",
        "def test(model, device, test_loader):\r\n",
        "    model.eval()\r\n",
        "    test_loss = 0\r\n",
        "    correct = 0\r\n",
        "    with torch.no_grad():\r\n",
        "        for data, target in test_loader:\r\n",
        "            data, target = data.to(device), target.to(device)\r\n",
        "            output = model(data)\r\n",
        "            test_loss += F.nll_loss(output, target, reduction='sum').item()  # sum up batch loss\r\n",
        "            pred = output.argmax(dim=1, keepdim=True)  # get the index of the max log-probability\r\n",
        "            correct += pred.eq(target.view_as(pred)).sum().item()\r\n",
        " \r\n",
        "    test_loss /= len(test_loader.dataset)\r\n",
        " \r\n",
        "    print('\\nTest set: Average loss: {:.4f}, Accuracy: {}/{} ({:.2f}%)\\n'.format(\r\n",
        "        test_loss, correct, len(test_loader.dataset),\r\n",
        "        100. * correct / len(test_loader.dataset)))\r\n",
        "    return test_loss"
      ],
      "execution_count": 73,
      "outputs": []
    },
    {
      "cell_type": "code",
      "metadata": {
        "id": "dne8Ovcdvrzx",
        "colab": {
          "base_uri": "https://localhost:8080/"
        },
        "outputId": "148a1750-df0c-42a8-dee1-891e0ce4e9bb"
      },
      "source": [
        "import torch.optim as optim\r\n",
        " \r\n",
        "model = Net().to(device)\r\n",
        "# optimizer = optim.SGD(model.parameters(), lr=0.01, momentum=0.9)\r\n",
        "optimizer= optim.Adam(model.parameters(), lr= 0.01)\r\n",
        "scheduler = optim.lr_scheduler.ReduceLROnPlateau(optimizer, patience=2) # Learning rate scheduler with patience = 2\r\n",
        " \r\n",
        "for epoch in range(1, 15):\r\n",
        "    train(model, device, train_loader, optimizer, epoch)\r\n",
        "    test_loss = test(model, device, test_loader)\r\n",
        "\r\n",
        "    \r\n",
        "    print('Epoch-{0} lr: {1}'.format(epoch, optimizer.param_groups[0]['lr']))\r\n",
        "    scheduler.step(test_loss)"
      ],
      "execution_count": 74,
      "outputs": [
        {
          "output_type": "stream",
          "text": [
            "loss=0.47466886043548584 batch_id=468: 100%|██████████| 469/469 [01:11<00:00,  6.54it/s]\n",
            "loss=0.584715723991394 batch_id=0:   0%|          | 1/469 [00:00<01:08,  6.84it/s]"
          ],
          "name": "stderr"
        },
        {
          "output_type": "stream",
          "text": [
            "\n",
            "Test set: Average loss: 0.1671, Accuracy: 9487/10000 (94.87%)\n",
            "\n",
            "Epoch-1 lr: 0.01\n"
          ],
          "name": "stdout"
        },
        {
          "output_type": "stream",
          "text": [
            "loss=0.6329819560050964 batch_id=468: 100%|██████████| 469/469 [01:12<00:00,  6.44it/s]\n",
            "loss=0.3929958939552307 batch_id=0:   0%|          | 1/469 [00:00<01:10,  6.66it/s]"
          ],
          "name": "stderr"
        },
        {
          "output_type": "stream",
          "text": [
            "\n",
            "Test set: Average loss: 0.1151, Accuracy: 9641/10000 (96.41%)\n",
            "\n",
            "Epoch-2 lr: 0.01\n"
          ],
          "name": "stdout"
        },
        {
          "output_type": "stream",
          "text": [
            "loss=0.4283265769481659 batch_id=468: 100%|██████████| 469/469 [01:11<00:00,  6.56it/s]\n",
            "loss=0.35271069407463074 batch_id=0:   0%|          | 1/469 [00:00<01:09,  6.75it/s]"
          ],
          "name": "stderr"
        },
        {
          "output_type": "stream",
          "text": [
            "\n",
            "Test set: Average loss: 0.1009, Accuracy: 9659/10000 (96.59%)\n",
            "\n",
            "Epoch-3 lr: 0.01\n"
          ],
          "name": "stdout"
        },
        {
          "output_type": "stream",
          "text": [
            "loss=0.3140493333339691 batch_id=468: 100%|██████████| 469/469 [01:11<00:00,  6.53it/s]\n",
            "loss=0.5076418519020081 batch_id=0:   0%|          | 1/469 [00:00<01:09,  6.74it/s]"
          ],
          "name": "stderr"
        },
        {
          "output_type": "stream",
          "text": [
            "\n",
            "Test set: Average loss: 0.1027, Accuracy: 9677/10000 (96.77%)\n",
            "\n",
            "Epoch-4 lr: 0.01\n"
          ],
          "name": "stdout"
        },
        {
          "output_type": "stream",
          "text": [
            "loss=0.5146254897117615 batch_id=468: 100%|██████████| 469/469 [01:11<00:00,  6.57it/s]\n",
            "loss=0.5794738531112671 batch_id=0:   0%|          | 1/469 [00:00<01:09,  6.73it/s]"
          ],
          "name": "stderr"
        },
        {
          "output_type": "stream",
          "text": [
            "\n",
            "Test set: Average loss: 0.0938, Accuracy: 9701/10000 (97.01%)\n",
            "\n",
            "Epoch-5 lr: 0.01\n"
          ],
          "name": "stdout"
        },
        {
          "output_type": "stream",
          "text": [
            "loss=0.3857288360595703 batch_id=468: 100%|██████████| 469/469 [01:12<00:00,  6.51it/s]\n",
            "loss=0.30824077129364014 batch_id=0:   0%|          | 1/469 [00:00<01:08,  6.79it/s]"
          ],
          "name": "stderr"
        },
        {
          "output_type": "stream",
          "text": [
            "\n",
            "Test set: Average loss: 0.0970, Accuracy: 9653/10000 (96.53%)\n",
            "\n",
            "Epoch-6 lr: 0.01\n"
          ],
          "name": "stdout"
        },
        {
          "output_type": "stream",
          "text": [
            "loss=0.4294426143169403 batch_id=468: 100%|██████████| 469/469 [01:11<00:00,  6.58it/s]\n",
            "loss=0.3311323821544647 batch_id=0:   0%|          | 1/469 [00:00<01:09,  6.76it/s]"
          ],
          "name": "stderr"
        },
        {
          "output_type": "stream",
          "text": [
            "\n",
            "Test set: Average loss: 0.0956, Accuracy: 9689/10000 (96.89%)\n",
            "\n",
            "Epoch-7 lr: 0.01\n"
          ],
          "name": "stdout"
        },
        {
          "output_type": "stream",
          "text": [
            "loss=0.37240496277809143 batch_id=468: 100%|██████████| 469/469 [01:11<00:00,  6.58it/s]\n",
            "loss=0.41620126366615295 batch_id=0:   0%|          | 1/469 [00:00<01:09,  6.71it/s]"
          ],
          "name": "stderr"
        },
        {
          "output_type": "stream",
          "text": [
            "\n",
            "Test set: Average loss: 0.1075, Accuracy: 9639/10000 (96.39%)\n",
            "\n",
            "Epoch-8 lr: 0.01\n"
          ],
          "name": "stdout"
        },
        {
          "output_type": "stream",
          "text": [
            "loss=0.29712167382240295 batch_id=468: 100%|██████████| 469/469 [01:11<00:00,  6.57it/s]\n",
            "loss=0.31266871094703674 batch_id=0:   0%|          | 1/469 [00:00<01:08,  6.88it/s]"
          ],
          "name": "stderr"
        },
        {
          "output_type": "stream",
          "text": [
            "\n",
            "Test set: Average loss: 0.0772, Accuracy: 9741/10000 (97.41%)\n",
            "\n",
            "Epoch-9 lr: 0.001\n"
          ],
          "name": "stdout"
        },
        {
          "output_type": "stream",
          "text": [
            "loss=0.30803799629211426 batch_id=468: 100%|██████████| 469/469 [01:12<00:00,  6.51it/s]\n",
            "loss=0.23809275031089783 batch_id=0:   0%|          | 1/469 [00:00<01:09,  6.74it/s]"
          ],
          "name": "stderr"
        },
        {
          "output_type": "stream",
          "text": [
            "\n",
            "Test set: Average loss: 0.0756, Accuracy: 9748/10000 (97.48%)\n",
            "\n",
            "Epoch-10 lr: 0.001\n"
          ],
          "name": "stdout"
        },
        {
          "output_type": "stream",
          "text": [
            "loss=0.37606656551361084 batch_id=468: 100%|██████████| 469/469 [01:11<00:00,  6.54it/s]\n",
            "loss=0.24878671765327454 batch_id=0:   0%|          | 1/469 [00:00<01:09,  6.69it/s]"
          ],
          "name": "stderr"
        },
        {
          "output_type": "stream",
          "text": [
            "\n",
            "Test set: Average loss: 0.0724, Accuracy: 9763/10000 (97.63%)\n",
            "\n",
            "Epoch-11 lr: 0.001\n"
          ],
          "name": "stdout"
        },
        {
          "output_type": "stream",
          "text": [
            "loss=0.24582819640636444 batch_id=468: 100%|██████████| 469/469 [01:11<00:00,  6.55it/s]\n",
            "loss=0.23889105021953583 batch_id=0:   0%|          | 1/469 [00:00<01:12,  6.43it/s]"
          ],
          "name": "stderr"
        },
        {
          "output_type": "stream",
          "text": [
            "\n",
            "Test set: Average loss: 0.0714, Accuracy: 9761/10000 (97.61%)\n",
            "\n",
            "Epoch-12 lr: 0.001\n"
          ],
          "name": "stdout"
        },
        {
          "output_type": "stream",
          "text": [
            "loss=0.4450249969959259 batch_id=468: 100%|██████████| 469/469 [01:11<00:00,  6.58it/s]\n",
            "loss=0.17257538437843323 batch_id=0:   0%|          | 1/469 [00:00<01:17,  6.04it/s]"
          ],
          "name": "stderr"
        },
        {
          "output_type": "stream",
          "text": [
            "\n",
            "Test set: Average loss: 0.0694, Accuracy: 9769/10000 (97.69%)\n",
            "\n",
            "Epoch-13 lr: 0.001\n"
          ],
          "name": "stdout"
        },
        {
          "output_type": "stream",
          "text": [
            "loss=0.3187442421913147 batch_id=468: 100%|██████████| 469/469 [01:11<00:00,  6.52it/s]\n"
          ],
          "name": "stderr"
        },
        {
          "output_type": "stream",
          "text": [
            "\n",
            "Test set: Average loss: 0.0710, Accuracy: 9768/10000 (97.68%)\n",
            "\n",
            "Epoch-14 lr: 0.001\n"
          ],
          "name": "stdout"
        }
      ]
    }
  ]
}